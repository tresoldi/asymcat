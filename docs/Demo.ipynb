{
  "nbformat": 4,
  "nbformat_minor": 0,
  "metadata": {
    "kernelspec": {
      "display_name": "Python 3",
      "language": "python",
      "name": "python3"
    },
    "language_info": {
      "codemirror_mode": {
        "name": "ipython",
        "version": 3
      },
      "file_extension": ".py",
      "mimetype": "text/x-python",
      "name": "python",
      "nbconvert_exporter": "python",
      "pygments_lexer": "ipython3",
      "version": "3.7.4+"
    },
    "colab": {
      "name": "Demo.ipynb",
      "version": "0.3.2",
      "provenance": []
    }
  },
  "cells": [
    {
      "cell_type": "markdown",
      "metadata": {
        "id": "b2W7fSUNa7Xn",
        "colab_type": "text"
      },
      "source": [
        "This notebook demonstrates"
      ]
    },
    {
      "cell_type": "code",
      "metadata": {
        "id": "vPGE9D80a7X_",
        "colab_type": "code",
        "colab": {
          "base_uri": "https://localhost:8080/",
          "height": 243
        },
        "outputId": "e2a94861-653b-4e80-c326-f5378e6e3e5f"
      },
      "source": [
        "# This cell contains the system commands for locally installing the package;\n",
        "# please remember that in most cases, especially in the playground,\n",
        "# Google CoLab requires the runtime to be restarted (CTRL+M) in order for it\n",
        "# to pick the new package (thus: run this cell, restart the runtime, and\n",
        "# run other cells)\n",
        "!rm -rf catcoocc\n",
        "!git clone https://github.com/tresoldi/catcoocc.git\n",
        "!pip3 install --force-reinstall --no-deps -e catcoocc/"
      ],
      "execution_count": 24,
      "outputs": [
        {
          "output_type": "stream",
          "text": [
            "Cloning into 'catcoocc'...\n",
            "remote: Enumerating objects: 151, done.\u001b[K\n",
            "remote: Counting objects: 100% (151/151), done.\u001b[K\n",
            "remote: Compressing objects: 100% (111/111), done.\u001b[K\n",
            "remote: Total 151 (delta 62), reused 120 (delta 35), pack-reused 0\u001b[K\n",
            "Receiving objects: 100% (151/151), 38.60 MiB | 33.96 MiB/s, done.\n",
            "Resolving deltas: 100% (62/62), done.\n",
            "Obtaining file:///content/catcoocc/catcoocc\n",
            "Installing collected packages: catcoocc\n",
            "  Found existing installation: catcoocc 0.1\n",
            "    Can't uninstall 'catcoocc'. No files were found to uninstall.\n",
            "  Running setup.py develop for catcoocc\n",
            "Successfully installed catcoocc\n"
          ],
          "name": "stdout"
        }
      ]
    },
    {
      "cell_type": "code",
      "metadata": {
        "id": "q_h0l5Ksdx01",
        "colab_type": "code",
        "colab": {}
      },
      "source": [
        "# Import 3rd party libraries\n",
        "from matplotlib import pyplot as plt\n",
        "import pandas as pd\n",
        "import numpy as np\n",
        "import seaborn as sns\n",
        "import tabulate\n",
        "\n",
        "# Import own libraries\n",
        "import catcoocc\n",
        "from catcoocc.scorer import CatScorer\n",
        "\n",
        "def plot_scorer(scorer, alpha_x, alpha_y, title=None, font_scale=2, figsize=(25, 25)):\n",
        "    if not title:\n",
        "        title = \"\"\n",
        "\n",
        "    matrix = pd.DataFrame(scorer, index=alpha_y, columns=alpha_x)\n",
        "\n",
        "    sns.set(font_scale=font_scale, font=\"FreeMono\")\n",
        "    plt.figure(figsize=figsize)\n",
        "\n",
        "    ax = plt.subplot(111)\n",
        "    sns.heatmap(matrix, annot=True, fmt='.2f', linewidths=.5, center=0, ax=ax).set_title(title, fontsize=font_scale*figsize[0])"
      ],
      "execution_count": 0,
      "outputs": []
    },
    {
      "cell_type": "markdown",
      "metadata": {
        "id": "o-otIjC0gUuk",
        "colab_type": "text"
      },
      "source": [
        "Lorem ipsum"
      ]
    },
    {
      "cell_type": "code",
      "metadata": {
        "id": "hw9n3c6sgXS2",
        "colab_type": "code",
        "colab": {
          "base_uri": "https://localhost:8080/",
          "height": 211
        },
        "outputId": "b9998e6f-8dc8-4f6f-fa97-a2c7ad191769"
      },
      "source": [
        "mushroom_data = catcoocc.read_sequences(\"catcoocc/docs/mushroom-small.tsv\")\n",
        "mushroom_cooccs = catcoocc.collect_cooccs(mushroom_data)\n",
        "scorer = catcoocc.scorer.CatScorer(mushroom_cooccs)\n",
        "\n",
        "mle = scorer.mle()\n",
        "pmi = scorer.pmi()\n",
        "npmi = scorer.pmi(True)\n",
        "chi2 = scorer.chi2()\n",
        "chi2_ns = scorer.chi2(False)\n",
        "cramersv = scorer.cramers_v()\n",
        "cramersv_ns = scorer.cramers_v(False)\n",
        "fisher = scorer.fisher()\n",
        "theil_u = scorer.theil_u()\n",
        "catcoocc_i = scorer.catcoocc_i()\n",
        "catcoocc_ii = scorer.catcoocc_ii()\n",
        "\n",
        "headers = [\n",
        "    'pair',\n",
        "    'mle_0',        'mle_1', \n",
        "    'pmi_0',        'pmi_1', \n",
        "    'npmi_0',       'npmi_1', \n",
        "    'chi2_0',       'chi2_1', \n",
        "    'chi2ns_0',     'chi2ns_1', \n",
        "    'cremersv_0',   'cremersv_1', \n",
        "    'cremersvns_0', 'cremersvns_1', \n",
        "    'fisher_0',     'fisher_1', \n",
        "    'theilu_0',     'theilu_1', \n",
        "    'catcoocci_0',  'catcoocci_1', \n",
        "    'catcooccii_0', 'catcooccii_1', \n",
        "]\n",
        "\n",
        "table = []\n",
        "for pair in sorted(scorer.obs):\n",
        "    buf = [\n",
        "        pair,\n",
        "        \"%0.4f\" % mle[pair][0],         \"%0.4f\" % mle[pair][1],\n",
        "        \"%0.4f\" % pmi[pair][0],         \"%0.4f\" % pmi[pair][1],\n",
        "        \"%0.4f\" % npmi[pair][0],        \"%0.4f\" % npmi[pair][1],\n",
        "        \"%0.4f\" % chi2[pair][0],        \"%0.4f\" % chi2[pair][1],\n",
        "        \"%0.4f\" % chi2_ns[pair][0],     \"%0.4f\" % chi2_ns[pair][1],\n",
        "        \"%0.4f\" % cramersv[pair][0],    \"%0.4f\" % cramersv[pair][1],\n",
        "        \"%0.4f\" % cramersv_ns[pair][0], \"%0.4f\" % cramersv_ns[pair][1],\n",
        "        \"%0.4f\" % fisher[pair][0],      \"%0.4f\" % fisher[pair][1],\n",
        "        \"%0.4f\" % theil_u[pair][0],     \"%0.4f\" % theil_u[pair][1],\n",
        "        \"%0.4f\" % catcoocc_i[pair][0],  \"%0.4f\" % catcoocc_i[pair][1],\n",
        "        \"%0.4f\" % catcoocc_ii[pair][0], \"%0.4f\" % catcoocc_ii[pair][1],\n",
        "    ]\n",
        "    table.append(buf)\n",
        "    \n",
        "print(tabulate.tabulate(table, headers=headers, tablefmt=\"github\"))\n",
        "xy, yx, alpha_x, alpha_y = catcoocc.scorer.scorer2matrices(catcoocc_ii)\n"
      ],
      "execution_count": 5,
      "outputs": [
        {
          "output_type": "stream",
          "text": [
            "| pair                    |   mle_0 |   mle_1 |   pmi_0 |   pmi_1 |   npmi_0 |   npmi_1 |   chi2_0 |   chi2_1 |   chi2ns_0 |   chi2ns_1 |   cremersv_0 |   cremersv_1 |   cremersvns_0 |   cremersvns_1 |   fisher_0 |   fisher_1 |   theilu_0 |   theilu_1 |   catcoocci_0 |   catcoocci_1 |   catcooccii_0 |   catcooccii_1 |\n",
            "|-------------------------|---------|---------|---------|---------|----------|----------|----------|----------|------------|------------|--------------|--------------|----------------|----------------|------------|------------|------------|------------|---------------|---------------|----------------|----------------|\n",
            "| ('edible', 'bell')      |  0.3846 |  1      |  0.4308 |  0.4308 |   0.3107 |   0.3107 |   1.8315 |   1.8315 |     3.5897 |     3.5897 |       0.2027 |       0.2027 |         0.1987 |         0.1987 |        inf |        inf |     1      |     0.3985 |        0.4308 |        0.1717 |         0.789  |         0.789  |\n",
            "| ('edible', 'convex')    |  0.4615 |  0.4615 | -0.3424 | -0.3424 |  -0.2844 |  -0.2844 |   3.6735 |   3.6735 |     5.7988 |     5.7988 |       0.3719 |       0.3719 |         0.3101 |         0.3101 |          0 |          0 |     0.2955 |     0.1823 |       -0.1012 |       -0.0624 |        -1.2578 |        -1.2578 |\n",
            "| ('edible', 'flat')      |  0.0769 |  1      |  0.4308 |  0.4308 |   0.1438 |   0.1438 |   0.1041 |   0.1041 |     0.5668 |     0.5668 |       0      |       0      |         0      |         0      |        inf |        inf |     1      |     1      |        0.4308 |        0.4308 |         0.0448 |         0.0448 |\n",
            "| ('edible', 'sunken')    |  0.0769 |  1      |  0.4308 |  0.4308 |   0.1438 |   0.1438 |   0.1041 |   0.1041 |     0.5668 |     0.5668 |       0      |       0      |         0      |         0      |        inf |        inf |     1      |     1      |        0.4308 |        0.4308 |         0.0448 |         0.0448 |\n",
            "| ('poisonous', 'bell')   |  0      |  0      | -3.5553 | -3.5553 |  -0.5934 |  -0.5934 |   1.8315 |   1.8315 |     3.5897 |     3.5897 |       0.2027 |       0.2027 |         0.1987 |         0.1987 |          0 |          0 |     1      |     1      |       -3.5553 |       -3.5553 |        -6.5116 |        -6.5116 |\n",
            "| ('poisonous', 'convex') |  1      |  0.5385 |  0.4308 |  0.4308 |   0.4103 |   0.4103 |   3.6735 |   3.6735 |     5.7988 |     5.7988 |       0.3719 |       0.3719 |         0.3101 |         0.3101 |        inf |        inf |     0.0105 |     1      |        0.0045 |        0.4308 |         1.5825 |         1.5825 |\n",
            "| ('poisonous', 'flat')   |  0      |  0      | -1.9459 | -1.9459 |  -0.3248 |  -0.3248 |   0.1041 |   0.1041 |     0.5668 |     0.5668 |       0      |       0      |         0      |         0      |          0 |          0 |     1      |     1      |       -1.9459 |       -1.9459 |        -0.2026 |        -0.2026 |\n",
            "| ('poisonous', 'sunken') |  0      |  0      | -1.9459 | -1.9459 |  -0.3248 |  -0.3248 |   0.1041 |   0.1041 |     0.5668 |     0.5668 |       0      |       0      |         0      |         0      |          0 |          0 |     1      |     1      |       -1.9459 |       -1.9459 |        -0.2026 |        -0.2026 |\n"
          ],
          "name": "stdout"
        }
      ]
    }
  ]
}