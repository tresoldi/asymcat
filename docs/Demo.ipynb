{
 "nbformat": 4,
 "nbformat_minor": 0,
 "metadata": {
  "kernelspec": {
   "display_name": "Python 3",
   "language": "python",
   "name": "python3"
  },
  "language_info": {
   "codemirror_mode": {
    "name": "ipython",
    "version": 3
   },
   "file_extension": ".py",
   "mimetype": "text/x-python",
   "name": "python",
   "nbconvert_exporter": "python",
   "pygments_lexer": "ipython3",
   "version": "3.7.4+"
  },
  "colab": {
   "name": "Demo.ipynb",
   "provenance": []
  }
 },
 "cells": [
  {
   "cell_type": "markdown",
   "metadata": {
    "id": "b2W7fSUNa7Xn",
    "colab_type": "text"
   },
   "source": [
    "# Categorical Co-occurrences\n",
    "\n",
    "`catcoocc` is a library for facilitating the analysis of categorical co-occurrence by means of symmetric matrices, asymmetric matrices, and association rules. It is intended for usage on three main types of data: collections of pairwise sequences (both aligned and not), categorical fields in databases, and matrices of presence/absence (such as for investigation of species co-occurrence in biology). More than statistical significance, interested in effect size and strength of association.\n",
    "\n",
    "For the purposes of the library, the following definitions are used:\n",
    "\n",
    "- a co-occurrence is an observation of two categorical elements from two different series\n",
    "- a population is a collection of co-occurrences which can come from the product of elements observed in two sequences (or, if the sequences are aligned, by n-gram windows), by the properties of an individual in a population, or by the product of presences\n",
    "- a scorer is a collection of association measures between all the possible products of values in alphabet_x and alphabet_y (including those not observed in the data)\n",
    "- scorers can be computed according to different methods (such as MLE...), either on raw counts of observed data or on smoothed methods; likewise, the output of scorers can be scaled in different ways\n",
    "- scorers can be symmetric (such as those coming from chi2 methods) or assymetric (such a Theil U), and can be either restricted to positive values or include negative values, and can be bound or not to a range\n"
   ]
  },
  {
   "cell_type": "code",
   "metadata": {
    "id": "vPGE9D80a7X_",
    "colab_type": "code",
    "outputId": "3e0a3bc1-c316-4ec1-83f1-7820f5f10301",
    "colab": {
     "base_uri": "https://localhost:8080/",
     "height": 208
    }
   },
   "source": "# Install the current asymcat package locally\n# Note: In most environments, you would install via: pip install asymcat\n# This cell is for development/demonstration purposes\nimport subprocess\nimport sys\n\n# For Google Colab or similar environments, you might need:\n# !pip install asymcat\n\nprint(\"Using local asymcat installation\")\nprint(\"If running elsewhere, install with: pip install asymcat\")",
   "execution_count": null,
   "outputs": []
  },
  {
   "cell_type": "code",
   "metadata": {
    "id": "q_h0l5Ksdx01",
    "colab_type": "code",
    "colab": {}
   },
   "source": "from IPython.display import HTML, display\n\n# Import 3rd party libraries\nfrom matplotlib import pyplot as plt\nimport pandas as pd\nimport numpy as np\nimport seaborn as sns\nimport tabulate\n\n# Import asymcat library (updated from catcoocc)\nimport asymcat\nfrom asymcat.scorer import CatScorer\n\ndef plot_scorer(scorer, alpha_x, alpha_y, title=None, font_scale=2, figsize=(25, 25), subset=None):\n    if not title:\n        title = \"\"\n\n    matrix = pd.DataFrame(scorer, index=alpha_y, columns=alpha_x)\n\n    if subset:\n        matrix = matrix.head(subset)\n        matrix = matrix.iloc[:,:subset]\n\n    sns.set(font_scale=font_scale)\n    plt.figure(figsize=figsize)\n\n    ax = plt.subplot(111)\n    sns.heatmap(matrix, annot=True, fmt='.2f', linewidths=.5, center=0, ax=ax).set_title(title, fontsize=font_scale*figsize[0])",
   "execution_count": null,
   "outputs": []
  },
  {
   "cell_type": "markdown",
   "metadata": {
    "id": "o-otIjC0gUuk",
    "colab_type": "text"
   },
   "source": [
    "Let's start exploring using a subset of the mushroom dataset.\n",
    "\n",
    "| class     | cap-shape |\n",
    "|-----------|-----------|\n",
    "| poisonous | convex    |\n",
    "| edible    | convex    |\n",
    "| edible    | bell      |\n",
    "| poisonous | convex    |\n",
    "| edible    | convex    |\n",
    "| edible    | convex    |\n",
    "| edible    | bell      |\n",
    "| edible    | bell      |\n",
    "| poisonous | convex    |\n",
    "| edible    | bell      |\n",
    "| edible    | convex    |\n",
    "| edible    | convex    |\n",
    "| edible    | bell      |\n",
    "| poisonous | convex    |\n",
    "| edible    | convex    |\n",
    "| edible    | sunken    |\n",
    "| edible    | flat      |\n",
    "| poisonous | convex    |\n",
    "| poisonous | convex    |\n",
    "| poisonous | convex    |\n",
    "\n",
    "Mushrooms can be either edible or poisonous, and the cap shapre can be of four types, convex, bell, flat, or sunken. In this subset, flat and sunken are underrepresented, with a single case, both being edibles, but of course it is not safe to eat it?\n",
    "\n",
    "And now with a sample of CMU\n"
   ]
  },
  {
   "cell_type": "code",
   "metadata": {
    "id": "hw9n3c6sgXS2",
    "colab_type": "code",
    "outputId": "f27a90d3-a87f-4929-cfac-31b9d85225b8",
    "colab": {
     "base_uri": "https://localhost:8080/",
     "height": 370
    }
   },
   "source": "data = asymcat.read_sequences(\"../resources/cmudict.sample100.tsv\")\nmy_cooccs = asymcat.collect_cooccs(data)\n\n# README example - simple synthetic data\nmy_cooccs = [\n             (\"A\", \"c\"),\n             (\"A\", \"d\"),\n             (\"A\", \"c\"),\n             (\"B\", \"g\"),\n             (\"B\", \"g\"),\n             (\"B\", \"f\"),\n]\n\nscorer = CatScorer(my_cooccs)\n\nmle = scorer.mle()\npmi = scorer.pmi()\nchi2 = scorer.chi2()\ncramersv = scorer.cramers_v()\nfisher = scorer.fisher()\ntheil_u = scorer.theil_u()\ncond_entropy = scorer.cond_entropy()\ntresoldi = scorer.tresoldi()\n\nheaders = [\n    'pair',\n    'mle_xy',           'mle_yx', \n    'pmi_xy',           'pmi_yx', \n    'chi2_xy',          'chi2_yx', \n    'cremersv_xy',      'cremersv_yx', \n    'fisher_xy',        'fisher_yx', \n    'theilu_xy',        'theilu_yx', \n    'cond_entropy_xy',  'cond_entropy_yx', \n    'tresoldi_xy',      'tresoldi_yx', \n]\n\ntable = []\n# Get unique pairs from the scorer results\nunique_pairs = sorted(set(mle.keys()))\nfor pair in unique_pairs:\n    buf = [\n        pair,\n        \"%0.4f\" % mle[pair][0],           \"%0.4f\" % mle[pair][1],\n        \"%0.4f\" % pmi[pair][0],           \"%0.4f\" % pmi[pair][1],\n        \"%0.4f\" % chi2[pair][0],          \"%0.4f\" % chi2[pair][1],\n        \"%0.4f\" % cramersv[pair][0],      \"%0.4f\" % cramersv[pair][1],\n        \"%0.4f\" % fisher[pair][0],        \"%0.4f\" % fisher[pair][1],\n        \"%0.4f\" % theil_u[pair][0],       \"%0.4f\" % theil_u[pair][1],\n        \"%0.4f\" % cond_entropy[pair][0],  \"%0.4f\" % cond_entropy[pair][1],\n        \"%0.4f\" % tresoldi[pair][0],      \"%0.4f\" % tresoldi[pair][1],\n    ]\n    table.append(buf)\n\n    \ndisplay(HTML(tabulate.tabulate(table, headers=headers, tablefmt='html')))",
   "execution_count": null,
   "outputs": []
  },
  {
   "cell_type": "markdown",
   "metadata": {
    "id": "tnAQ6gfmjde2",
    "colab_type": "text"
   },
   "source": [
    "and now more\n",
    "\n",
    "## With Theil U"
   ]
  },
  {
   "cell_type": "code",
   "metadata": {
    "id": "GPdjLAYZjk4j",
    "colab_type": "code",
    "outputId": "f606f78c-8e9e-4736-cbb6-349a857d03bd",
    "colab": {
     "base_uri": "https://localhost:8080/",
     "height": 641
    }
   },
   "source": "xy, yx, alpha_x, alpha_y = asymcat.scorer.scorer2matrices(theil_u)\n\nfigsize = (20, 10)\nsubset = 5\n# Fix the matrix dimensions by transposing\nplot_scorer(xy.T, alpha_y, alpha_x, \"x->y\", 2, figsize, subset=subset)",
   "execution_count": null,
   "outputs": []
  },
  {
   "cell_type": "markdown",
   "metadata": {
    "id": "YyJCAVyWj9mL",
    "colab_type": "text"
   },
   "source": [
    "and even more"
   ]
  },
  {
   "cell_type": "code",
   "metadata": {
    "id": "NxFHKLaykA9M",
    "colab_type": "code",
    "outputId": "ad25acc2-aac1-4613-c390-1af9f27d77e4",
    "colab": {
     "base_uri": "https://localhost:8080/",
     "height": 641
    }
   },
   "source": "figsize = (20, 10)\nsubset = 5\n# Fix the matrix dimensions by transposing\nplot_scorer(yx.T, alpha_x, alpha_y, \"y->x\", 2, figsize, subset=subset)",
   "execution_count": null,
   "outputs": []
  },
  {
   "cell_type": "markdown",
   "metadata": {
    "id": "yDz6hSe-HyHY",
    "colab_type": "text"
   },
   "source": [
    "## With tresoldi\n",
    "\n",
    "my implementation\n"
   ]
  },
  {
   "cell_type": "code",
   "metadata": {
    "id": "aCVvRQhLH0r3",
    "colab_type": "code",
    "outputId": "8958f6eb-f154-46e4-e1a7-47ca4a553115",
    "colab": {
     "base_uri": "https://localhost:8080/",
     "height": 641
    }
   },
   "source": "xy, yx, alpha_x, alpha_y = asymcat.scorer.scorer2matrices(tresoldi)\n\nfigsize = (20, 10)\nsubset = 5\n# Fix the matrix dimensions by transposing\nplot_scorer(xy.T, alpha_y, alpha_x, \"x->y\", 2, figsize, subset=subset)",
   "execution_count": null,
   "outputs": []
  },
  {
   "cell_type": "code",
   "metadata": {
    "id": "z1iEXf6TH4il",
    "colab_type": "code",
    "outputId": "67bc5246-d0ff-4d78-82c0-0d447552700c",
    "colab": {
     "base_uri": "https://localhost:8080/",
     "height": 641
    }
   },
   "source": "figsize = (20, 10)\nsubset = 5\n# Fix the matrix dimensions by transposing\nplot_scorer(yx.T, alpha_x, alpha_y, \"y->x\", 2, figsize, subset=subset)",
   "execution_count": null,
   "outputs": []
  }
 ]
}